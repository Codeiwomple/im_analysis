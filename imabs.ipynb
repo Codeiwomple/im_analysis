{
 "cells": [
  {
   "cell_type": "code",
   "execution_count": 1,
   "metadata": {},
   "outputs": [],
   "source": [
    "import pandas as pd\n",
    "from selenium import webdriver\n",
    "from bs4 import BeautifulSoup\n",
    "from itertools import chain\n",
    "from selenium.webdriver.firefox.options import Options"
   ]
  },
  {
   "cell_type": "code",
   "execution_count": 2,
   "metadata": {},
   "outputs": [],
   "source": [
    "urls = {\n",
    "    'switzerland' : {\n",
    "        '2022' : 'https://www.coachcox.co.uk/imstats/race/1887/results/',\n",
    "        '2021' : 'https://www.coachcox.co.uk/imstats/race/1793/results/',\n",
    "        '2019' : 'https://www.coachcox.co.uk/imstats/race/485/results/',\n",
    "        '2018' : 'https://www.coachcox.co.uk/imstats/race/437/results/'\n",
    "    },\n",
    "    'copenhagen' : {\n",
    "        '2022' : 'https://www.coachcox.co.uk/imstats/race/1880/results/',\n",
    "        '2021' : 'https://www.coachcox.co.uk/imstats/race/1776/results/', \n",
    "        '2019' : 'https://www.coachcox.co.uk/imstats/race/492/results/', \n",
    "        '2018' : 'https://www.coachcox.co.uk/imstats/race/443/results/'\n",
    "    }\n",
    "}"
   ]
  },
  {
   "cell_type": "code",
   "execution_count": 3,
   "metadata": {},
   "outputs": [],
   "source": [
    "def scrape(url):\n",
    "    \"\"\"\n",
    "    Function takes a URL from www.coachcox.co.uk and scrapes the results data. Returns a DF containing the results \n",
    "    \"\"\"\n",
    "    # Set up webdriver and get the content\n",
    "    options = Options()\n",
    "    options.add_argument(\"--headless\")\n",
    "    driver = webdriver.Firefox(options=options)\n",
    "    driver.get(url)\n",
    "    html = driver.page_source\n",
    "\n",
    "    # Parse the html and locate the results table\n",
    "    soup = BeautifulSoup(html, 'html.parser')\n",
    "    table = soup.find('table', id='imraceresultstable')\n",
    "\n",
    "    # Grab the results and column titles from the table\n",
    "    data = []\n",
    "    labels = []\n",
    "    for row in table.find_all('tr'):\n",
    "        data_cells = row.find_all('td')\n",
    "        data.append([cell.text for cell in data_cells])\n",
    "\n",
    "        lebel_cells = row.find_all('th')\n",
    "        labels.append([cell.text for cell in lebel_cells])\n",
    "\n",
    "    # Flatten the list of labels\n",
    "    labels = list(chain.from_iterable(labels))\n",
    "\n",
    "    return pd.DataFrame(data, columns=labels)"
   ]
  },
  {
   "cell_type": "code",
   "execution_count": 5,
   "metadata": {},
   "outputs": [],
   "source": [
    "def scrape_all_to_file(urls):\n",
    "    for country, dates in urls.items():\n",
    "        for date, url in dates.items(): \n",
    "            filename = f\"{country}_{date}.res\"\n",
    "            df = scrape(url)\n",
    "            df.to_pickle(filename)\n"
   ]
  },
  {
   "cell_type": "code",
   "execution_count": 6,
   "metadata": {},
   "outputs": [],
   "source": [
    "scrape_all_to_file(urls)"
   ]
  },
  {
   "cell_type": "code",
   "execution_count": null,
   "metadata": {},
   "outputs": [],
   "source": []
  },
  {
   "cell_type": "code",
   "execution_count": null,
   "metadata": {},
   "outputs": [],
   "source": []
  }
 ],
 "metadata": {
  "kernelspec": {
   "display_name": "Python 3",
   "language": "python",
   "name": "python3"
  },
  "language_info": {
   "codemirror_mode": {
    "name": "ipython",
    "version": 3
   },
   "file_extension": ".py",
   "mimetype": "text/x-python",
   "name": "python",
   "nbconvert_exporter": "python",
   "pygments_lexer": "ipython3",
   "version": "3.10.6"
  },
  "orig_nbformat": 4
 },
 "nbformat": 4,
 "nbformat_minor": 2
}
